{
 "cells": [
  {
   "cell_type": "code",
   "execution_count": 2,
   "id": "bcd07c21-1b12-4e1e-a783-caaea43594af",
   "metadata": {},
   "outputs": [],
   "source": [
    "import pandas as pd\n",
    "import numpy as np\n",
    "import matplotlib\n",
    "from matplotlib import pyplot as plt"
   ]
  },
  {
   "cell_type": "code",
   "execution_count": 3,
   "id": "90e675af-ca79-40df-8a2b-396d0389e198",
   "metadata": {},
   "outputs": [],
   "source": [
    "df1 = pd.read_csv('MagicBricks.csv')"
   ]
  },
  {
   "cell_type": "code",
   "execution_count": 4,
   "id": "eb31d7e1-850c-4eee-b1fc-3a1cd5ecb347",
   "metadata": {},
   "outputs": [
    {
     "data": {
      "text/html": [
       "<div>\n",
       "<style scoped>\n",
       "    .dataframe tbody tr th:only-of-type {\n",
       "        vertical-align: middle;\n",
       "    }\n",
       "\n",
       "    .dataframe tbody tr th {\n",
       "        vertical-align: top;\n",
       "    }\n",
       "\n",
       "    .dataframe thead th {\n",
       "        text-align: right;\n",
       "    }\n",
       "</style>\n",
       "<table border=\"1\" class=\"dataframe\">\n",
       "  <thead>\n",
       "    <tr style=\"text-align: right;\">\n",
       "      <th></th>\n",
       "      <th>Area</th>\n",
       "      <th>BHK</th>\n",
       "      <th>Bathroom</th>\n",
       "      <th>Furnishing</th>\n",
       "      <th>Locality</th>\n",
       "      <th>Parking</th>\n",
       "      <th>Price</th>\n",
       "      <th>Status</th>\n",
       "      <th>Transaction</th>\n",
       "      <th>Type</th>\n",
       "      <th>Per_Sqft</th>\n",
       "    </tr>\n",
       "  </thead>\n",
       "  <tbody>\n",
       "    <tr>\n",
       "      <th>0</th>\n",
       "      <td>800.0</td>\n",
       "      <td>3</td>\n",
       "      <td>2.0</td>\n",
       "      <td>Semi-Furnished</td>\n",
       "      <td>Rohini Sector 25</td>\n",
       "      <td>1.0</td>\n",
       "      <td>6500000</td>\n",
       "      <td>Ready_to_move</td>\n",
       "      <td>New_Property</td>\n",
       "      <td>Builder_Floor</td>\n",
       "      <td>NaN</td>\n",
       "    </tr>\n",
       "  </tbody>\n",
       "</table>\n",
       "</div>"
      ],
      "text/plain": [
       "    Area  BHK  Bathroom      Furnishing          Locality  Parking    Price  \\\n",
       "0  800.0    3       2.0  Semi-Furnished  Rohini Sector 25      1.0  6500000   \n",
       "\n",
       "          Status   Transaction           Type  Per_Sqft  \n",
       "0  Ready_to_move  New_Property  Builder_Floor       NaN  "
      ]
     },
     "execution_count": 4,
     "metadata": {},
     "output_type": "execute_result"
    }
   ],
   "source": [
    "df1.head(1)"
   ]
  },
  {
   "cell_type": "code",
   "execution_count": 5,
   "id": "b658110f-4f8f-4c95-ac11-0ef8590e38f6",
   "metadata": {},
   "outputs": [
    {
     "data": {
      "text/plain": [
       "(1259, 11)"
      ]
     },
     "execution_count": 5,
     "metadata": {},
     "output_type": "execute_result"
    }
   ],
   "source": [
    "df1.shape"
   ]
  },
  {
   "cell_type": "code",
   "execution_count": 6,
   "id": "44bfbd2d-1289-4ca8-b973-81109d69764a",
   "metadata": {},
   "outputs": [
    {
     "data": {
      "text/html": [
       "<div>\n",
       "<style scoped>\n",
       "    .dataframe tbody tr th:only-of-type {\n",
       "        vertical-align: middle;\n",
       "    }\n",
       "\n",
       "    .dataframe tbody tr th {\n",
       "        vertical-align: top;\n",
       "    }\n",
       "\n",
       "    .dataframe thead th {\n",
       "        text-align: right;\n",
       "    }\n",
       "</style>\n",
       "<table border=\"1\" class=\"dataframe\">\n",
       "  <thead>\n",
       "    <tr style=\"text-align: right;\">\n",
       "      <th></th>\n",
       "      <th>Area</th>\n",
       "      <th>BHK</th>\n",
       "      <th>Bathroom</th>\n",
       "      <th>Furnishing</th>\n",
       "      <th>Locality</th>\n",
       "      <th>Parking</th>\n",
       "      <th>Price</th>\n",
       "      <th>Status</th>\n",
       "      <th>Transaction</th>\n",
       "      <th>Type</th>\n",
       "      <th>Per_Sqft</th>\n",
       "    </tr>\n",
       "  </thead>\n",
       "  <tbody>\n",
       "    <tr>\n",
       "      <th>0</th>\n",
       "      <td>800.0</td>\n",
       "      <td>3</td>\n",
       "      <td>2.0</td>\n",
       "      <td>Semi-Furnished</td>\n",
       "      <td>Rohini Sector 25</td>\n",
       "      <td>1.0</td>\n",
       "      <td>6500000</td>\n",
       "      <td>Ready_to_move</td>\n",
       "      <td>New_Property</td>\n",
       "      <td>Builder_Floor</td>\n",
       "      <td>NaN</td>\n",
       "    </tr>\n",
       "    <tr>\n",
       "      <th>1</th>\n",
       "      <td>750.0</td>\n",
       "      <td>2</td>\n",
       "      <td>2.0</td>\n",
       "      <td>Semi-Furnished</td>\n",
       "      <td>J R Designers Floors, Rohini Sector 24</td>\n",
       "      <td>1.0</td>\n",
       "      <td>5000000</td>\n",
       "      <td>Ready_to_move</td>\n",
       "      <td>New_Property</td>\n",
       "      <td>Apartment</td>\n",
       "      <td>6667.0</td>\n",
       "    </tr>\n",
       "    <tr>\n",
       "      <th>2</th>\n",
       "      <td>950.0</td>\n",
       "      <td>2</td>\n",
       "      <td>2.0</td>\n",
       "      <td>Furnished</td>\n",
       "      <td>Citizen Apartment, Rohini Sector 13</td>\n",
       "      <td>1.0</td>\n",
       "      <td>15500000</td>\n",
       "      <td>Ready_to_move</td>\n",
       "      <td>Resale</td>\n",
       "      <td>Apartment</td>\n",
       "      <td>6667.0</td>\n",
       "    </tr>\n",
       "  </tbody>\n",
       "</table>\n",
       "</div>"
      ],
      "text/plain": [
       "    Area  BHK  Bathroom      Furnishing  \\\n",
       "0  800.0    3       2.0  Semi-Furnished   \n",
       "1  750.0    2       2.0  Semi-Furnished   \n",
       "2  950.0    2       2.0       Furnished   \n",
       "\n",
       "                                 Locality  Parking     Price         Status  \\\n",
       "0                        Rohini Sector 25      1.0   6500000  Ready_to_move   \n",
       "1  J R Designers Floors, Rohini Sector 24      1.0   5000000  Ready_to_move   \n",
       "2     Citizen Apartment, Rohini Sector 13      1.0  15500000  Ready_to_move   \n",
       "\n",
       "    Transaction           Type  Per_Sqft  \n",
       "0  New_Property  Builder_Floor       NaN  \n",
       "1  New_Property      Apartment    6667.0  \n",
       "2        Resale      Apartment    6667.0  "
      ]
     },
     "execution_count": 6,
     "metadata": {},
     "output_type": "execute_result"
    }
   ],
   "source": [
    "df1.head(3)"
   ]
  },
  {
   "cell_type": "code",
   "execution_count": 7,
   "id": "5920f4ef-d984-4609-9c0e-680e840b10f6",
   "metadata": {},
   "outputs": [
    {
     "data": {
      "text/plain": [
       "Status\n",
       "Almost_ready       75\n",
       "Ready_to_move    1184\n",
       "Name: Status, dtype: int64"
      ]
     },
     "execution_count": 7,
     "metadata": {},
     "output_type": "execute_result"
    }
   ],
   "source": [
    "df1.groupby('Status')['Status'].agg('count')"
   ]
  },
  {
   "cell_type": "code",
   "execution_count": 8,
   "id": "9ae7bad0-7fe5-44c0-aaac-707bc61c397a",
   "metadata": {},
   "outputs": [],
   "source": [
    "df2 = df1.drop(['Status','Bathroom','Transaction'],axis='columns')"
   ]
  },
  {
   "cell_type": "code",
   "execution_count": 9,
   "id": "f98236bf-4088-4225-a7d7-ae84e90bf40d",
   "metadata": {},
   "outputs": [
    {
     "data": {
      "text/html": [
       "<div>\n",
       "<style scoped>\n",
       "    .dataframe tbody tr th:only-of-type {\n",
       "        vertical-align: middle;\n",
       "    }\n",
       "\n",
       "    .dataframe tbody tr th {\n",
       "        vertical-align: top;\n",
       "    }\n",
       "\n",
       "    .dataframe thead th {\n",
       "        text-align: right;\n",
       "    }\n",
       "</style>\n",
       "<table border=\"1\" class=\"dataframe\">\n",
       "  <thead>\n",
       "    <tr style=\"text-align: right;\">\n",
       "      <th></th>\n",
       "      <th>Area</th>\n",
       "      <th>BHK</th>\n",
       "      <th>Furnishing</th>\n",
       "      <th>Locality</th>\n",
       "      <th>Parking</th>\n",
       "      <th>Price</th>\n",
       "      <th>Type</th>\n",
       "      <th>Per_Sqft</th>\n",
       "    </tr>\n",
       "  </thead>\n",
       "  <tbody>\n",
       "    <tr>\n",
       "      <th>0</th>\n",
       "      <td>800.0</td>\n",
       "      <td>3</td>\n",
       "      <td>Semi-Furnished</td>\n",
       "      <td>Rohini Sector 25</td>\n",
       "      <td>1.0</td>\n",
       "      <td>6500000</td>\n",
       "      <td>Builder_Floor</td>\n",
       "      <td>NaN</td>\n",
       "    </tr>\n",
       "    <tr>\n",
       "      <th>1</th>\n",
       "      <td>750.0</td>\n",
       "      <td>2</td>\n",
       "      <td>Semi-Furnished</td>\n",
       "      <td>J R Designers Floors, Rohini Sector 24</td>\n",
       "      <td>1.0</td>\n",
       "      <td>5000000</td>\n",
       "      <td>Apartment</td>\n",
       "      <td>6667.0</td>\n",
       "    </tr>\n",
       "    <tr>\n",
       "      <th>2</th>\n",
       "      <td>950.0</td>\n",
       "      <td>2</td>\n",
       "      <td>Furnished</td>\n",
       "      <td>Citizen Apartment, Rohini Sector 13</td>\n",
       "      <td>1.0</td>\n",
       "      <td>15500000</td>\n",
       "      <td>Apartment</td>\n",
       "      <td>6667.0</td>\n",
       "    </tr>\n",
       "  </tbody>\n",
       "</table>\n",
       "</div>"
      ],
      "text/plain": [
       "    Area  BHK      Furnishing                                Locality  \\\n",
       "0  800.0    3  Semi-Furnished                        Rohini Sector 25   \n",
       "1  750.0    2  Semi-Furnished  J R Designers Floors, Rohini Sector 24   \n",
       "2  950.0    2       Furnished     Citizen Apartment, Rohini Sector 13   \n",
       "\n",
       "   Parking     Price           Type  Per_Sqft  \n",
       "0      1.0   6500000  Builder_Floor       NaN  \n",
       "1      1.0   5000000      Apartment    6667.0  \n",
       "2      1.0  15500000      Apartment    6667.0  "
      ]
     },
     "execution_count": 9,
     "metadata": {},
     "output_type": "execute_result"
    }
   ],
   "source": [
    "df2.head(3)"
   ]
  },
  {
   "cell_type": "code",
   "execution_count": 10,
   "id": "b305224f-7c94-4580-8373-af5bc44bdf35",
   "metadata": {},
   "outputs": [
    {
     "data": {
      "text/plain": [
       "Area            0\n",
       "BHK             0\n",
       "Furnishing      5\n",
       "Locality        0\n",
       "Parking        33\n",
       "Price           0\n",
       "Type            5\n",
       "Per_Sqft      241\n",
       "dtype: int64"
      ]
     },
     "execution_count": 10,
     "metadata": {},
     "output_type": "execute_result"
    }
   ],
   "source": [
    "df2.isnull().sum()"
   ]
  },
  {
   "cell_type": "code",
   "execution_count": 11,
   "id": "48ce39e9-255a-4858-b2cf-fce230b1235f",
   "metadata": {},
   "outputs": [],
   "source": [
    "df3 = df2.dropna(subset=['Furnishing', 'Parking'])"
   ]
  },
  {
   "cell_type": "code",
   "execution_count": 12,
   "id": "bc39f788-7ea2-46e1-b40e-e68ff5745957",
   "metadata": {},
   "outputs": [
    {
     "data": {
      "text/plain": [
       "Area            0\n",
       "BHK             0\n",
       "Furnishing      0\n",
       "Locality        0\n",
       "Parking         0\n",
       "Price           0\n",
       "Type            0\n",
       "Per_Sqft      220\n",
       "dtype: int64"
      ]
     },
     "execution_count": 12,
     "metadata": {},
     "output_type": "execute_result"
    }
   ],
   "source": [
    "df3.isnull().sum()"
   ]
  },
  {
   "cell_type": "code",
   "execution_count": 13,
   "id": "637707d0-0fe0-46ea-94fa-ff115dacf7ec",
   "metadata": {},
   "outputs": [
    {
     "data": {
      "text/plain": [
       "0       15663.630846\n",
       "1        6667.000000\n",
       "2        6667.000000\n",
       "3        6667.000000\n",
       "4        6667.000000\n",
       "            ...     \n",
       "1254    12916.000000\n",
       "1255    12916.000000\n",
       "1256    12916.000000\n",
       "1257    12916.000000\n",
       "1258    12916.000000\n",
       "Name: Per_Sqft, Length: 1225, dtype: float64"
      ]
     },
     "execution_count": 13,
     "metadata": {},
     "output_type": "execute_result"
    }
   ],
   "source": [
    "mean_perSqft = df3['Per_Sqft'].mean()\n",
    "df3['Per_Sqft'].fillna(value=mean_perSqft)"
   ]
  },
  {
   "cell_type": "code",
   "execution_count": 14,
   "id": "d5e71bc1-cbe0-4d26-898b-35f590f31c35",
   "metadata": {},
   "outputs": [
    {
     "data": {
      "text/plain": [
       "Area            0\n",
       "BHK             0\n",
       "Furnishing      0\n",
       "Locality        0\n",
       "Parking         0\n",
       "Price           0\n",
       "Type            0\n",
       "Per_Sqft      220\n",
       "dtype: int64"
      ]
     },
     "execution_count": 14,
     "metadata": {},
     "output_type": "execute_result"
    }
   ],
   "source": [
    "df3.isnull().sum()"
   ]
  },
  {
   "cell_type": "code",
   "execution_count": 15,
   "id": "81495b45-7e8f-44a1-bd47-4440d28eb6a7",
   "metadata": {},
   "outputs": [
    {
     "data": {
      "text/html": [
       "<div>\n",
       "<style scoped>\n",
       "    .dataframe tbody tr th:only-of-type {\n",
       "        vertical-align: middle;\n",
       "    }\n",
       "\n",
       "    .dataframe tbody tr th {\n",
       "        vertical-align: top;\n",
       "    }\n",
       "\n",
       "    .dataframe thead th {\n",
       "        text-align: right;\n",
       "    }\n",
       "</style>\n",
       "<table border=\"1\" class=\"dataframe\">\n",
       "  <thead>\n",
       "    <tr style=\"text-align: right;\">\n",
       "      <th></th>\n",
       "      <th>Area</th>\n",
       "      <th>BHK</th>\n",
       "      <th>Furnishing</th>\n",
       "      <th>Locality</th>\n",
       "      <th>Parking</th>\n",
       "      <th>Price</th>\n",
       "      <th>Type</th>\n",
       "      <th>Per_Sqft</th>\n",
       "    </tr>\n",
       "  </thead>\n",
       "  <tbody>\n",
       "    <tr>\n",
       "      <th>0</th>\n",
       "      <td>800.0</td>\n",
       "      <td>3</td>\n",
       "      <td>Semi-Furnished</td>\n",
       "      <td>Rohini Sector 25</td>\n",
       "      <td>1.0</td>\n",
       "      <td>6500000</td>\n",
       "      <td>Builder_Floor</td>\n",
       "      <td>NaN</td>\n",
       "    </tr>\n",
       "    <tr>\n",
       "      <th>1</th>\n",
       "      <td>750.0</td>\n",
       "      <td>2</td>\n",
       "      <td>Semi-Furnished</td>\n",
       "      <td>J R Designers Floors, Rohini Sector 24</td>\n",
       "      <td>1.0</td>\n",
       "      <td>5000000</td>\n",
       "      <td>Apartment</td>\n",
       "      <td>6667.0</td>\n",
       "    </tr>\n",
       "    <tr>\n",
       "      <th>2</th>\n",
       "      <td>950.0</td>\n",
       "      <td>2</td>\n",
       "      <td>Furnished</td>\n",
       "      <td>Citizen Apartment, Rohini Sector 13</td>\n",
       "      <td>1.0</td>\n",
       "      <td>15500000</td>\n",
       "      <td>Apartment</td>\n",
       "      <td>6667.0</td>\n",
       "    </tr>\n",
       "  </tbody>\n",
       "</table>\n",
       "</div>"
      ],
      "text/plain": [
       "    Area  BHK      Furnishing                                Locality  \\\n",
       "0  800.0    3  Semi-Furnished                        Rohini Sector 25   \n",
       "1  750.0    2  Semi-Furnished  J R Designers Floors, Rohini Sector 24   \n",
       "2  950.0    2       Furnished     Citizen Apartment, Rohini Sector 13   \n",
       "\n",
       "   Parking     Price           Type  Per_Sqft  \n",
       "0      1.0   6500000  Builder_Floor       NaN  \n",
       "1      1.0   5000000      Apartment    6667.0  \n",
       "2      1.0  15500000      Apartment    6667.0  "
      ]
     },
     "execution_count": 15,
     "metadata": {},
     "output_type": "execute_result"
    }
   ],
   "source": [
    "df3.head(3)"
   ]
  },
  {
   "cell_type": "code",
   "execution_count": 16,
   "id": "1f0a6045-00f2-46fe-84ed-519dfa3789f7",
   "metadata": {},
   "outputs": [
    {
     "data": {
      "text/plain": [
       "Area          float64\n",
       "BHK             int64\n",
       "Furnishing     object\n",
       "Locality       object\n",
       "Parking       float64\n",
       "Price           int64\n",
       "Type           object\n",
       "Per_Sqft      float64\n",
       "dtype: object"
      ]
     },
     "execution_count": 16,
     "metadata": {},
     "output_type": "execute_result"
    }
   ],
   "source": [
    "df3.dtypes"
   ]
  },
  {
   "cell_type": "code",
   "execution_count": 17,
   "id": "c747d105-bb39-46b6-9d81-939d2640a2bf",
   "metadata": {},
   "outputs": [],
   "source": [
    "df4 = df3.drop(['Furnishing'],axis='columns')"
   ]
  },
  {
   "cell_type": "code",
   "execution_count": 18,
   "id": "cfd523a6-ea14-4bd1-9f57-0706770c8275",
   "metadata": {},
   "outputs": [
    {
     "data": {
      "text/html": [
       "<div>\n",
       "<style scoped>\n",
       "    .dataframe tbody tr th:only-of-type {\n",
       "        vertical-align: middle;\n",
       "    }\n",
       "\n",
       "    .dataframe tbody tr th {\n",
       "        vertical-align: top;\n",
       "    }\n",
       "\n",
       "    .dataframe thead th {\n",
       "        text-align: right;\n",
       "    }\n",
       "</style>\n",
       "<table border=\"1\" class=\"dataframe\">\n",
       "  <thead>\n",
       "    <tr style=\"text-align: right;\">\n",
       "      <th></th>\n",
       "      <th>Area</th>\n",
       "      <th>BHK</th>\n",
       "      <th>Locality</th>\n",
       "      <th>Parking</th>\n",
       "      <th>Price</th>\n",
       "      <th>Type</th>\n",
       "      <th>Per_Sqft</th>\n",
       "    </tr>\n",
       "  </thead>\n",
       "  <tbody>\n",
       "    <tr>\n",
       "      <th>0</th>\n",
       "      <td>800.0</td>\n",
       "      <td>3</td>\n",
       "      <td>Rohini Sector 25</td>\n",
       "      <td>1.0</td>\n",
       "      <td>6500000</td>\n",
       "      <td>Builder_Floor</td>\n",
       "      <td>NaN</td>\n",
       "    </tr>\n",
       "    <tr>\n",
       "      <th>1</th>\n",
       "      <td>750.0</td>\n",
       "      <td>2</td>\n",
       "      <td>J R Designers Floors, Rohini Sector 24</td>\n",
       "      <td>1.0</td>\n",
       "      <td>5000000</td>\n",
       "      <td>Apartment</td>\n",
       "      <td>6667.0</td>\n",
       "    </tr>\n",
       "    <tr>\n",
       "      <th>2</th>\n",
       "      <td>950.0</td>\n",
       "      <td>2</td>\n",
       "      <td>Citizen Apartment, Rohini Sector 13</td>\n",
       "      <td>1.0</td>\n",
       "      <td>15500000</td>\n",
       "      <td>Apartment</td>\n",
       "      <td>6667.0</td>\n",
       "    </tr>\n",
       "  </tbody>\n",
       "</table>\n",
       "</div>"
      ],
      "text/plain": [
       "    Area  BHK                                Locality  Parking     Price  \\\n",
       "0  800.0    3                        Rohini Sector 25      1.0   6500000   \n",
       "1  750.0    2  J R Designers Floors, Rohini Sector 24      1.0   5000000   \n",
       "2  950.0    2     Citizen Apartment, Rohini Sector 13      1.0  15500000   \n",
       "\n",
       "            Type  Per_Sqft  \n",
       "0  Builder_Floor       NaN  \n",
       "1      Apartment    6667.0  \n",
       "2      Apartment    6667.0  "
      ]
     },
     "execution_count": 18,
     "metadata": {},
     "output_type": "execute_result"
    }
   ],
   "source": [
    "df4.head(3)"
   ]
  },
  {
   "cell_type": "code",
   "execution_count": 19,
   "id": "47b703f4-bb6b-4b1e-b4aa-e44c427e8729",
   "metadata": {},
   "outputs": [
    {
     "data": {
      "text/plain": [
       "Area        float64\n",
       "BHK           int64\n",
       "Locality     object\n",
       "Parking     float64\n",
       "Price         int64\n",
       "Type         object\n",
       "Per_Sqft    float64\n",
       "dtype: object"
      ]
     },
     "execution_count": 19,
     "metadata": {},
     "output_type": "execute_result"
    }
   ],
   "source": [
    "df4.dtypes"
   ]
  },
  {
   "cell_type": "code",
   "execution_count": 20,
   "id": "75bb0fcf-f19d-42bd-adbc-b9dc3f34db8d",
   "metadata": {},
   "outputs": [
    {
     "ename": "NameError",
     "evalue": "name 'df' is not defined",
     "output_type": "error",
     "traceback": [
      "\u001b[1;31m---------------------------------------------------------------------------\u001b[0m",
      "\u001b[1;31mNameError\u001b[0m                                 Traceback (most recent call last)",
      "Cell \u001b[1;32mIn[20], line 1\u001b[0m\n\u001b[1;32m----> 1\u001b[0m \u001b[38;5;28mlen\u001b[39m(\u001b[43mdf\u001b[49m[\u001b[38;5;124m'\u001b[39m\u001b[38;5;124mLocality\u001b[39m\u001b[38;5;124m'\u001b[39m]\u001b[38;5;241m.\u001b[39munique())\n\u001b[0;32m      2\u001b[0m \u001b[38;5;66;03m#dimensionality curse\u001b[39;00m\n",
      "\u001b[1;31mNameError\u001b[0m: name 'df' is not defined"
     ]
    }
   ],
   "source": [
    "len(df['Locality'].unique())\n",
    "#dimensionality curse"
   ]
  },
  {
   "cell_type": "code",
   "execution_count": 21,
   "id": "45777ece-95f5-406e-8f6a-28457a975e71",
   "metadata": {},
   "outputs": [
    {
     "data": {
      "text/plain": [
       "Locality\n",
       "Lajpat Nagar 3                                                                                                                                                                                                                                                                                                                                                                                                                                                                                                                                                                                                                                                       33\n",
       "Lajpat Nagar 2                                                                                                                                                                                                                                                                                                                                                                                                                                                                                                                                                                                                                                                       31\n",
       "J R Designers Floors, Rohini Sector 24                                                                                                                                                                                                                                                                                                                                                                                                                                                                                                                                                                                                                               31\n",
       "Kailash Colony, Greater Kailash                                                                                                                                                                                                                                                                                                                                                                                                                                                                                                                                                                                                                                      29\n",
       "Yamuna Vihar, Shahdara                                                                                                                                                                                                                                                                                                                                                                                                                                                                                                                                                                                                                                               29\n",
       "                                                                                                                                                                                                                                                                                                                                                                                                                                                                                                                                                                                                                                                                     ..\n",
       "Mahavir Enclave Part 1 carpet area 1000 sqft status Ready to Move floor 2 out of 4 floors transaction Resale furnishing Semi-Furnished facing East car parking 1 Covered bathroom 2 balcony 2 East Facing Property this property is for sale purpose.......................... Contact Owner View Phone No. Share Feedback Owner Twinkle Sudan                                                                                                                                                                                                                                                                                                                        1\n",
       "Mahesh Apartment, Vasundhara Enclave                                                                                                                                                                                                                                                                                                                                                                                                                                                                                                                                                                                                                                  1\n",
       "Malviya Nagar carpet area 100 sqyrd status Ready to Move floor 2 out of 3 floors transaction Resale furnishing Semi-Furnished facing North overlooking Garden/Park, Main Road car parking 2 Open bathroom 3 balcony 2 ownership Freehold It's a Corner three story building, located in South Delhi. Amenities like Market, Schools, Hospitals, Parks, Gyms, Study Centers, Temple are all around. Very Close to Malviya Nagar Metro and Haus Khas Metro Station. Centerlize place to live. Whether you go to Gurgaon or Noida Or to other parts of the city, commuting from here is very easy. read more Contact Owner View Phone No. Share Feedback Owner Rohit     1\n",
       "Mandakini Enclave Project, Kalkaji                                                                                                                                                                                                                                                                                                                                                                                                                                                                                                                                                                                                                                    1\n",
       "mind. The space is airy, is well located and can be easily customized as per the needs. Prime facilities are easily accessible from this place with Government Girls Senior Secondary School No 2 (0 km ). Other key neighbourhood are B Block Market (0 km ). read more Contact Owner View Phone No. Share Feedback Owner vinod kumar                                                                                                                                                                                                                                                                                                                                1\n",
       "Name: Locality, Length: 353, dtype: int64"
      ]
     },
     "execution_count": 21,
     "metadata": {},
     "output_type": "execute_result"
    }
   ],
   "source": [
    "df4.Locality = df4.Locality.apply(lambda x: x.strip())\n",
    "locality_stats = df4.groupby('Locality')['Locality'].agg('count').sort_values(ascending = False)\n",
    "locality_stats"
   ]
  },
  {
   "cell_type": "code",
   "execution_count": 22,
   "id": "d511ea93-ec86-478a-a9bb-8a597f9ed5df",
   "metadata": {},
   "outputs": [
    {
     "data": {
      "text/plain": [
       "273"
      ]
     },
     "execution_count": 22,
     "metadata": {},
     "output_type": "execute_result"
    }
   ],
   "source": [
    "len(locality_stats[locality_stats <=3])"
   ]
  },
  {
   "cell_type": "code",
   "execution_count": 23,
   "id": "1ccb0f58-3a74-4b60-b740-b4cd3429e7f9",
   "metadata": {},
   "outputs": [],
   "source": [
    " locality_stats_under_3 = locality_stats[locality_stats <=3]"
   ]
  },
  {
   "cell_type": "code",
   "execution_count": 24,
   "id": "b40f2b03-a380-4928-88d7-118cfcad0fbf",
   "metadata": {},
   "outputs": [
    {
     "ename": "NameError",
     "evalue": "name 'df' is not defined",
     "output_type": "error",
     "traceback": [
      "\u001b[1;31m---------------------------------------------------------------------------\u001b[0m",
      "\u001b[1;31mNameError\u001b[0m                                 Traceback (most recent call last)",
      "Cell \u001b[1;32mIn[24], line 1\u001b[0m\n\u001b[1;32m----> 1\u001b[0m \u001b[38;5;28mlen\u001b[39m(\u001b[43mdf\u001b[49m[\u001b[38;5;124m'\u001b[39m\u001b[38;5;124mLocality\u001b[39m\u001b[38;5;124m'\u001b[39m]\u001b[38;5;241m.\u001b[39munique())\n",
      "\u001b[1;31mNameError\u001b[0m: name 'df' is not defined"
     ]
    }
   ],
   "source": [
    " len(df['Locality'].unique())"
   ]
  },
  {
   "cell_type": "code",
   "execution_count": 25,
   "id": "6efe5357-b091-4233-9bde-5db389aafff0",
   "metadata": {},
   "outputs": [],
   "source": [
    "df4.Locality = df4.Locality.apply(lambda x: 'other' if x in  locality_stats_under_3 else x)"
   ]
  },
  {
   "cell_type": "code",
   "execution_count": 26,
   "id": "b254d820-cad5-4533-b116-7af26d621836",
   "metadata": {},
   "outputs": [
    {
     "data": {
      "text/html": [
       "<div>\n",
       "<style scoped>\n",
       "    .dataframe tbody tr th:only-of-type {\n",
       "        vertical-align: middle;\n",
       "    }\n",
       "\n",
       "    .dataframe tbody tr th {\n",
       "        vertical-align: top;\n",
       "    }\n",
       "\n",
       "    .dataframe thead th {\n",
       "        text-align: right;\n",
       "    }\n",
       "</style>\n",
       "<table border=\"1\" class=\"dataframe\">\n",
       "  <thead>\n",
       "    <tr style=\"text-align: right;\">\n",
       "      <th></th>\n",
       "      <th>Area</th>\n",
       "      <th>BHK</th>\n",
       "      <th>Locality</th>\n",
       "      <th>Parking</th>\n",
       "      <th>Price</th>\n",
       "      <th>Type</th>\n",
       "      <th>Per_Sqft</th>\n",
       "    </tr>\n",
       "  </thead>\n",
       "  <tbody>\n",
       "    <tr>\n",
       "      <th>0</th>\n",
       "      <td>800.0</td>\n",
       "      <td>3</td>\n",
       "      <td>Rohini Sector 25</td>\n",
       "      <td>1.0</td>\n",
       "      <td>6500000</td>\n",
       "      <td>Builder_Floor</td>\n",
       "      <td>NaN</td>\n",
       "    </tr>\n",
       "    <tr>\n",
       "      <th>1</th>\n",
       "      <td>750.0</td>\n",
       "      <td>2</td>\n",
       "      <td>J R Designers Floors, Rohini Sector 24</td>\n",
       "      <td>1.0</td>\n",
       "      <td>5000000</td>\n",
       "      <td>Apartment</td>\n",
       "      <td>6667.0</td>\n",
       "    </tr>\n",
       "    <tr>\n",
       "      <th>2</th>\n",
       "      <td>950.0</td>\n",
       "      <td>2</td>\n",
       "      <td>other</td>\n",
       "      <td>1.0</td>\n",
       "      <td>15500000</td>\n",
       "      <td>Apartment</td>\n",
       "      <td>6667.0</td>\n",
       "    </tr>\n",
       "    <tr>\n",
       "      <th>3</th>\n",
       "      <td>600.0</td>\n",
       "      <td>2</td>\n",
       "      <td>Rohini Sector 24</td>\n",
       "      <td>1.0</td>\n",
       "      <td>4200000</td>\n",
       "      <td>Builder_Floor</td>\n",
       "      <td>6667.0</td>\n",
       "    </tr>\n",
       "    <tr>\n",
       "      <th>4</th>\n",
       "      <td>650.0</td>\n",
       "      <td>2</td>\n",
       "      <td>other</td>\n",
       "      <td>1.0</td>\n",
       "      <td>6200000</td>\n",
       "      <td>Builder_Floor</td>\n",
       "      <td>6667.0</td>\n",
       "    </tr>\n",
       "  </tbody>\n",
       "</table>\n",
       "</div>"
      ],
      "text/plain": [
       "    Area  BHK                                Locality  Parking     Price  \\\n",
       "0  800.0    3                        Rohini Sector 25      1.0   6500000   \n",
       "1  750.0    2  J R Designers Floors, Rohini Sector 24      1.0   5000000   \n",
       "2  950.0    2                                   other      1.0  15500000   \n",
       "3  600.0    2                        Rohini Sector 24      1.0   4200000   \n",
       "4  650.0    2                                   other      1.0   6200000   \n",
       "\n",
       "            Type  Per_Sqft  \n",
       "0  Builder_Floor       NaN  \n",
       "1      Apartment    6667.0  \n",
       "2      Apartment    6667.0  \n",
       "3  Builder_Floor    6667.0  \n",
       "4  Builder_Floor    6667.0  "
      ]
     },
     "execution_count": 26,
     "metadata": {},
     "output_type": "execute_result"
    }
   ],
   "source": [
    "df4.head()"
   ]
  },
  {
   "cell_type": "code",
   "execution_count": 27,
   "id": "d08d2d0a-4f65-4f9a-b06f-a6b87d4cf1fe",
   "metadata": {},
   "outputs": [
    {
     "data": {
      "text/plain": [
       "81"
      ]
     },
     "execution_count": 27,
     "metadata": {},
     "output_type": "execute_result"
    }
   ],
   "source": [
    "len(df4['Locality'].unique())"
   ]
  },
  {
   "cell_type": "code",
   "execution_count": 28,
   "id": "6abc25fe-c71e-46a8-8f29-27221a2b4d37",
   "metadata": {},
   "outputs": [
    {
     "data": {
      "text/html": [
       "<div>\n",
       "<style scoped>\n",
       "    .dataframe tbody tr th:only-of-type {\n",
       "        vertical-align: middle;\n",
       "    }\n",
       "\n",
       "    .dataframe tbody tr th {\n",
       "        vertical-align: top;\n",
       "    }\n",
       "\n",
       "    .dataframe thead th {\n",
       "        text-align: right;\n",
       "    }\n",
       "</style>\n",
       "<table border=\"1\" class=\"dataframe\">\n",
       "  <thead>\n",
       "    <tr style=\"text-align: right;\">\n",
       "      <th></th>\n",
       "      <th>Area</th>\n",
       "      <th>BHK</th>\n",
       "      <th>Locality</th>\n",
       "      <th>Parking</th>\n",
       "      <th>Price</th>\n",
       "      <th>Type</th>\n",
       "      <th>Per_Sqft</th>\n",
       "    </tr>\n",
       "  </thead>\n",
       "  <tbody>\n",
       "    <tr>\n",
       "      <th>28</th>\n",
       "      <td>28.0</td>\n",
       "      <td>2</td>\n",
       "      <td>Rohini Sector 25</td>\n",
       "      <td>1.0</td>\n",
       "      <td>5000000</td>\n",
       "      <td>Apartment</td>\n",
       "      <td>8750.0</td>\n",
       "    </tr>\n",
       "    <tr>\n",
       "      <th>153</th>\n",
       "      <td>100.0</td>\n",
       "      <td>3</td>\n",
       "      <td>Budh Vihar Phase 1</td>\n",
       "      <td>1.0</td>\n",
       "      <td>4300000</td>\n",
       "      <td>Builder_Floor</td>\n",
       "      <td>43000.0</td>\n",
       "    </tr>\n",
       "    <tr>\n",
       "      <th>157</th>\n",
       "      <td>75.0</td>\n",
       "      <td>2</td>\n",
       "      <td>Budh Vihar</td>\n",
       "      <td>1.0</td>\n",
       "      <td>3000000</td>\n",
       "      <td>Builder_Floor</td>\n",
       "      <td>40000.0</td>\n",
       "    </tr>\n",
       "    <tr>\n",
       "      <th>238</th>\n",
       "      <td>45.0</td>\n",
       "      <td>4</td>\n",
       "      <td>Batla House, Okhla</td>\n",
       "      <td>1.0</td>\n",
       "      <td>5500000</td>\n",
       "      <td>Builder_Floor</td>\n",
       "      <td>18750.0</td>\n",
       "    </tr>\n",
       "    <tr>\n",
       "      <th>341</th>\n",
       "      <td>70.0</td>\n",
       "      <td>1</td>\n",
       "      <td>Yamuna Vihar, Shahdara</td>\n",
       "      <td>1.0</td>\n",
       "      <td>4500000</td>\n",
       "      <td>Apartment</td>\n",
       "      <td>5357.0</td>\n",
       "    </tr>\n",
       "  </tbody>\n",
       "</table>\n",
       "</div>"
      ],
      "text/plain": [
       "      Area  BHK                Locality  Parking    Price           Type  \\\n",
       "28    28.0    2        Rohini Sector 25      1.0  5000000      Apartment   \n",
       "153  100.0    3      Budh Vihar Phase 1      1.0  4300000  Builder_Floor   \n",
       "157   75.0    2              Budh Vihar      1.0  3000000  Builder_Floor   \n",
       "238   45.0    4      Batla House, Okhla      1.0  5500000  Builder_Floor   \n",
       "341   70.0    1  Yamuna Vihar, Shahdara      1.0  4500000      Apartment   \n",
       "\n",
       "     Per_Sqft  \n",
       "28     8750.0  \n",
       "153   43000.0  \n",
       "157   40000.0  \n",
       "238   18750.0  \n",
       "341    5357.0  "
      ]
     },
     "execution_count": 28,
     "metadata": {},
     "output_type": "execute_result"
    }
   ],
   "source": [
    "df4[df4.Area/df4.BHK<100].head()"
   ]
  },
  {
   "cell_type": "code",
   "execution_count": 29,
   "id": "aa03c247-fc56-410b-b82e-69c20544303a",
   "metadata": {},
   "outputs": [],
   "source": [
    "#we need to remove outliers"
   ]
  },
  {
   "cell_type": "code",
   "execution_count": 30,
   "id": "b934b604-2e50-4b8b-9e48-3d258686015b",
   "metadata": {},
   "outputs": [
    {
     "data": {
      "text/plain": [
       "(1225, 7)"
      ]
     },
     "execution_count": 30,
     "metadata": {},
     "output_type": "execute_result"
    }
   ],
   "source": [
    "df4.shape"
   ]
  },
  {
   "cell_type": "code",
   "execution_count": 31,
   "id": "48d1ff60-ab48-43cf-85ab-8f138690a907",
   "metadata": {},
   "outputs": [],
   "source": [
    "df5 = df4[~(df4.Area/df4.BHK<100)]"
   ]
  },
  {
   "cell_type": "code",
   "execution_count": 32,
   "id": "207b3b42-fb63-44af-a9e2-dbb5c45717c8",
   "metadata": {},
   "outputs": [
    {
     "data": {
      "text/plain": [
       "(1200, 7)"
      ]
     },
     "execution_count": 32,
     "metadata": {},
     "output_type": "execute_result"
    }
   ],
   "source": [
    "df5.shape"
   ]
  },
  {
   "cell_type": "code",
   "execution_count": 33,
   "id": "04eabaf5-97b5-442a-ae1c-8e3667f53072",
   "metadata": {},
   "outputs": [
    {
     "data": {
      "text/plain": [
       "count       980.000000\n",
       "mean      15358.033673\n",
       "std       20510.904093\n",
       "min        1259.000000\n",
       "25%        6343.500000\n",
       "50%       11165.500000\n",
       "75%       18000.000000\n",
       "max      183333.000000\n",
       "Name: Per_Sqft, dtype: float64"
      ]
     },
     "execution_count": 33,
     "metadata": {},
     "output_type": "execute_result"
    }
   ],
   "source": [
    "df5.Per_Sqft.describe()"
   ]
  },
  {
   "cell_type": "code",
   "execution_count": 34,
   "id": "2a59b90a-82cd-4a7c-b861-37b338f10480",
   "metadata": {},
   "outputs": [],
   "source": [
    "def remove_pps_outliers(df):\n",
    "    df_out = pd.DataFrame()\n",
    "    for key,subdf in df.groupby('Locality'):\n",
    "        m = np.mean(subdf.Per_Sqft)\n",
    "        st = np.std(subdf.Per_Sqft)\n",
    "        reduced_df = subdf[(subdf.Per_Sqft>(m-st))&(subdf.Per_Sqft<=(m+st))]\n",
    "        df_out = pd.concat([df_out,reduced_df],ignore_index=True)\n",
    "    return df_out"
   ]
  },
  {
   "cell_type": "code",
   "execution_count": 35,
   "id": "7b369edf-6818-4b1f-afe4-f6e899c23cc7",
   "metadata": {},
   "outputs": [],
   "source": [
    "df6 = remove_pps_outliers(df5)"
   ]
  },
  {
   "cell_type": "code",
   "execution_count": 36,
   "id": "ebf127fa-be60-4d0b-ad37-38d6ab6fe81d",
   "metadata": {},
   "outputs": [
    {
     "data": {
      "text/plain": [
       "(760, 7)"
      ]
     },
     "execution_count": 36,
     "metadata": {},
     "output_type": "execute_result"
    }
   ],
   "source": [
    "df6.shape"
   ]
  },
  {
   "cell_type": "code",
   "execution_count": 37,
   "id": "bbc5ca66-aafa-491b-a53c-0993307142bd",
   "metadata": {},
   "outputs": [],
   "source": [
    "def plot_scatter_chart(df,Locality):\n",
    "    bhk2 = df[(df.Locality==Locality) & (df.BHK==2)]\n",
    "    bhk3 = df[(df.Locality==Locality) & (df.BHK==3)]\n",
    "    matplotlib.rcParams['figure.figsize'] = (15,10)\n",
    "    plt.scatter(bhk2.Area,bhk2.Price,color='blue',label='2 BHK',s=50)\n",
    "    plt.scatter(bhk3.Area,bhk3.Price,marker='+',color='green',label='3 BHK',s=50)\n",
    "    plt.xlabel(\"Total Square Feet area\")\n",
    "    plt.ylabel(\"Price\")\n",
    "    plt.title(Locality)\n",
    "    plt.legend()"
   ]
  },
  {
   "cell_type": "code",
   "execution_count": 38,
   "id": "dcda61b6-a3cd-4ebe-9150-85e6ab1a75e1",
   "metadata": {},
   "outputs": [
    {
     "data": {
      "image/png": "[encoded data removed]",
      "text/plain": [
       "<Figure size 1500x1000 with 1 Axes>"
      ]
     },
     "metadata": {},
     "output_type": "display_data"
    }
   ],
   "source": [
    "plot_scatter_chart(df6,'Vasant Kunj')"
   ]
  },
  {
   "cell_type": "code",
   "execution_count": 39,
   "id": "1cc8b262-22ff-4cf6-8e33-6251e35ed188",
   "metadata": {},
   "outputs": [
    {
     "data": {
      "text/plain": [
       "(584, 7)"
      ]
     },
     "execution_count": 39,
     "metadata": {},
     "output_type": "execute_result"
    }
   ],
   "source": [
    "def remove_bhk_outliers(df):\n",
    "    exclude_indices = np.array([])\n",
    "    for locality, locality_df in df.groupby('Locality'):\n",
    "        bhk_stats = {}\n",
    "        for bhk, bhk_df in locality_df.groupby('BHK'):\n",
    "            bhk_stats[bhk] = {\n",
    "                'mean': np.mean(bhk_df.Per_Sqft),\n",
    "                'std': np.std(bhk_df.Per_Sqft),\n",
    "                'count': bhk_df.shape[0]\n",
    "            }\n",
    "        for bhk, bhk_df in locality_df.groupby('BHK'):\n",
    "            stats = bhk_stats.get(bhk-1)\n",
    "            if stats and stats['count']>5:\n",
    "                exclude_indices = np.append(exclude_indices, bhk_df[bhk_df.Per_Sqft<(stats['mean'])].index.values)\n",
    "    return df.drop(exclude_indices,axis='index')\n",
    "df7 = remove_bhk_outliers(df6)\n",
    "df7.shape"
   ]
  },
  {
   "cell_type": "code",
   "execution_count": 40,
   "id": "b1c4c83a-433c-4284-96c3-1a878bd8b926",
   "metadata": {},
   "outputs": [
    {
     "data": {
      "text/plain": [
       "Text(0, 0.5, 'Count')"
      ]
     },
     "execution_count": 40,
     "metadata": {},
     "output_type": "execute_result"
    },
    {
     "data": {
      "image/png": "[encoded data removed]",
      "text/plain": [
       "<Figure size 2000x1000 with 1 Axes>"
      ]
     },
     "metadata": {},
     "output_type": "display_data"
    }
   ],
   "source": [
    "import matplotlib\n",
    "matplotlib.rcParams['figure.figsize']=(20,10)\n",
    "plt.hist(df7.Per_Sqft, rwidth=0.8)\n",
    "plt.xlabel(\"Price per square feet\")\n",
    "plt.ylabel(\"Count\")"
   ]
  },
  {
   "cell_type": "code",
   "execution_count": 41,
   "id": "d3dfc895-feb9-4e15-99ab-d1b77fde4a89",
   "metadata": {},
   "outputs": [
    {
     "data": {
      "text/html": [
       "<div>\n",
       "<style scoped>\n",
       "    .dataframe tbody tr th:only-of-type {\n",
       "        vertical-align: middle;\n",
       "    }\n",
       "\n",
       "    .dataframe tbody tr th {\n",
       "        vertical-align: top;\n",
       "    }\n",
       "\n",
       "    .dataframe thead th {\n",
       "        text-align: right;\n",
       "    }\n",
       "</style>\n",
       "<table border=\"1\" class=\"dataframe\">\n",
       "  <thead>\n",
       "    <tr style=\"text-align: right;\">\n",
       "      <th></th>\n",
       "      <th>BHK</th>\n",
       "      <th>Locality</th>\n",
       "      <th>Parking</th>\n",
       "      <th>Price</th>\n",
       "      <th>Type</th>\n",
       "    </tr>\n",
       "  </thead>\n",
       "  <tbody>\n",
       "    <tr>\n",
       "      <th>0</th>\n",
       "      <td>3</td>\n",
       "      <td>Alaknanda</td>\n",
       "      <td>1.0</td>\n",
       "      <td>19000000</td>\n",
       "      <td>Apartment</td>\n",
       "    </tr>\n",
       "    <tr>\n",
       "      <th>1</th>\n",
       "      <td>2</td>\n",
       "      <td>Alaknanda</td>\n",
       "      <td>2.0</td>\n",
       "      <td>15000000</td>\n",
       "      <td>Apartment</td>\n",
       "    </tr>\n",
       "    <tr>\n",
       "      <th>2</th>\n",
       "      <td>2</td>\n",
       "      <td>Alaknanda</td>\n",
       "      <td>2.0</td>\n",
       "      <td>17500000</td>\n",
       "      <td>Apartment</td>\n",
       "    </tr>\n",
       "    <tr>\n",
       "      <th>3</th>\n",
       "      <td>2</td>\n",
       "      <td>Alaknanda</td>\n",
       "      <td>2.0</td>\n",
       "      <td>14000000</td>\n",
       "      <td>Apartment</td>\n",
       "    </tr>\n",
       "    <tr>\n",
       "      <th>4</th>\n",
       "      <td>3</td>\n",
       "      <td>Alaknanda</td>\n",
       "      <td>2.0</td>\n",
       "      <td>15600000</td>\n",
       "      <td>Apartment</td>\n",
       "    </tr>\n",
       "  </tbody>\n",
       "</table>\n",
       "</div>"
      ],
      "text/plain": [
       "   BHK   Locality  Parking     Price       Type\n",
       "0    3  Alaknanda      1.0  19000000  Apartment\n",
       "1    2  Alaknanda      2.0  15000000  Apartment\n",
       "2    2  Alaknanda      2.0  17500000  Apartment\n",
       "3    2  Alaknanda      2.0  14000000  Apartment\n",
       "4    3  Alaknanda      2.0  15600000  Apartment"
      ]
     },
     "execution_count": 41,
     "metadata": {},
     "output_type": "execute_result"
    }
   ],
   "source": [
    "df8 = df7.drop(['Area','Per_Sqft'],axis='columns')\n",
    "df8.head(5)"
   ]
  },
  {
   "cell_type": "code",
   "execution_count": 42,
   "id": "bad6a7e1-3f9f-472e-9113-59c75ce6102d",
   "metadata": {},
   "outputs": [
    {
     "data": {
      "text/plain": [
       "(584, 5)"
      ]
     },
     "execution_count": 42,
     "metadata": {},
     "output_type": "execute_result"
    }
   ],
   "source": [
    "df8.shape"
   ]
  },
  {
   "cell_type": "code",
   "execution_count": 43,
   "id": "0727874b-5218-4eb9-965e-204468c2757b",
   "metadata": {},
   "outputs": [],
   "source": [
    "dummies =pd.get_dummies(df8.Locality).astype(int)"
   ]
  },
  {
   "cell_type": "code",
   "execution_count": 44,
   "id": "013dec5f-d02b-48b8-8a07-ca2c47c0a081",
   "metadata": {},
   "outputs": [],
   "source": [
    "df9 = pd.concat([df8,dummies.drop('other',axis='columns')],axis = 'columns')"
   ]
  },
  {
   "cell_type": "code",
   "execution_count": 45,
   "id": "c7f37cbd-bcdb-498e-a08f-63cbf0e052a2",
   "metadata": {},
   "outputs": [
    {
     "data": {
      "text/html": [
       "<div>\n",
       "<style scoped>\n",
       "    .dataframe tbody tr th:only-of-type {\n",
       "        vertical-align: middle;\n",
       "    }\n",
       "\n",
       "    .dataframe tbody tr th {\n",
       "        vertical-align: top;\n",
       "    }\n",
       "\n",
       "    .dataframe thead th {\n",
       "        text-align: right;\n",
       "    }\n",
       "</style>\n",
       "<table border=\"1\" class=\"dataframe\">\n",
       "  <thead>\n",
       "    <tr style=\"text-align: right;\">\n",
       "      <th></th>\n",
       "      <th>BHK</th>\n",
       "      <th>Locality</th>\n",
       "      <th>Parking</th>\n",
       "      <th>Price</th>\n",
       "      <th>Type</th>\n",
       "      <th>Alaknanda</th>\n",
       "      <th>Batla House, Okhla</th>\n",
       "      <th>Budh Vihar</th>\n",
       "      <th>Budh Vihar Phase 1</th>\n",
       "      <th>Chittaranjan Park</th>\n",
       "      <th>...</th>\n",
       "      <th>Shivalik, Malviya Nagar</th>\n",
       "      <th>Sukhdev Vihar, Okhla</th>\n",
       "      <th>Sultanpur</th>\n",
       "      <th>Sultanpur Extension</th>\n",
       "      <th>The Amaryllis, Karol Bagh</th>\n",
       "      <th>The Leela Sky Villas, Patel Nagar</th>\n",
       "      <th>Uttam Nagar</th>\n",
       "      <th>Uttam Nagar West</th>\n",
       "      <th>Vasant Kunj</th>\n",
       "      <th>Yamuna Vihar, Shahdara</th>\n",
       "    </tr>\n",
       "  </thead>\n",
       "  <tbody>\n",
       "    <tr>\n",
       "      <th>0</th>\n",
       "      <td>3</td>\n",
       "      <td>Alaknanda</td>\n",
       "      <td>1.0</td>\n",
       "      <td>19000000</td>\n",
       "      <td>Apartment</td>\n",
       "      <td>1</td>\n",
       "      <td>0</td>\n",
       "      <td>0</td>\n",
       "      <td>0</td>\n",
       "      <td>0</td>\n",
       "      <td>...</td>\n",
       "      <td>0</td>\n",
       "      <td>0</td>\n",
       "      <td>0</td>\n",
       "      <td>0</td>\n",
       "      <td>0</td>\n",
       "      <td>0</td>\n",
       "      <td>0</td>\n",
       "      <td>0</td>\n",
       "      <td>0</td>\n",
       "      <td>0</td>\n",
       "    </tr>\n",
       "    <tr>\n",
       "      <th>1</th>\n",
       "      <td>2</td>\n",
       "      <td>Alaknanda</td>\n",
       "      <td>2.0</td>\n",
       "      <td>15000000</td>\n",
       "      <td>Apartment</td>\n",
       "      <td>1</td>\n",
       "      <td>0</td>\n",
       "      <td>0</td>\n",
       "      <td>0</td>\n",
       "      <td>0</td>\n",
       "      <td>...</td>\n",
       "      <td>0</td>\n",
       "      <td>0</td>\n",
       "      <td>0</td>\n",
       "      <td>0</td>\n",
       "      <td>0</td>\n",
       "      <td>0</td>\n",
       "      <td>0</td>\n",
       "      <td>0</td>\n",
       "      <td>0</td>\n",
       "      <td>0</td>\n",
       "    </tr>\n",
       "    <tr>\n",
       "      <th>2</th>\n",
       "      <td>2</td>\n",
       "      <td>Alaknanda</td>\n",
       "      <td>2.0</td>\n",
       "      <td>17500000</td>\n",
       "      <td>Apartment</td>\n",
       "      <td>1</td>\n",
       "      <td>0</td>\n",
       "      <td>0</td>\n",
       "      <td>0</td>\n",
       "      <td>0</td>\n",
       "      <td>...</td>\n",
       "      <td>0</td>\n",
       "      <td>0</td>\n",
       "      <td>0</td>\n",
       "      <td>0</td>\n",
       "      <td>0</td>\n",
       "      <td>0</td>\n",
       "      <td>0</td>\n",
       "      <td>0</td>\n",
       "      <td>0</td>\n",
       "      <td>0</td>\n",
       "    </tr>\n",
       "    <tr>\n",
       "      <th>3</th>\n",
       "      <td>2</td>\n",
       "      <td>Alaknanda</td>\n",
       "      <td>2.0</td>\n",
       "      <td>14000000</td>\n",
       "      <td>Apartment</td>\n",
       "      <td>1</td>\n",
       "      <td>0</td>\n",
       "      <td>0</td>\n",
       "      <td>0</td>\n",
       "      <td>0</td>\n",
       "      <td>...</td>\n",
       "      <td>0</td>\n",
       "      <td>0</td>\n",
       "      <td>0</td>\n",
       "      <td>0</td>\n",
       "      <td>0</td>\n",
       "      <td>0</td>\n",
       "      <td>0</td>\n",
       "      <td>0</td>\n",
       "      <td>0</td>\n",
       "      <td>0</td>\n",
       "    </tr>\n",
       "    <tr>\n",
       "      <th>4</th>\n",
       "      <td>3</td>\n",
       "      <td>Alaknanda</td>\n",
       "      <td>2.0</td>\n",
       "      <td>15600000</td>\n",
       "      <td>Apartment</td>\n",
       "      <td>1</td>\n",
       "      <td>0</td>\n",
       "      <td>0</td>\n",
       "      <td>0</td>\n",
       "      <td>0</td>\n",
       "      <td>...</td>\n",
       "      <td>0</td>\n",
       "      <td>0</td>\n",
       "      <td>0</td>\n",
       "      <td>0</td>\n",
       "      <td>0</td>\n",
       "      <td>0</td>\n",
       "      <td>0</td>\n",
       "      <td>0</td>\n",
       "      <td>0</td>\n",
       "      <td>0</td>\n",
       "    </tr>\n",
       "    <tr>\n",
       "      <th>5</th>\n",
       "      <td>3</td>\n",
       "      <td>Alaknanda</td>\n",
       "      <td>1.0</td>\n",
       "      <td>19000000</td>\n",
       "      <td>Apartment</td>\n",
       "      <td>1</td>\n",
       "      <td>0</td>\n",
       "      <td>0</td>\n",
       "      <td>0</td>\n",
       "      <td>0</td>\n",
       "      <td>...</td>\n",
       "      <td>0</td>\n",
       "      <td>0</td>\n",
       "      <td>0</td>\n",
       "      <td>0</td>\n",
       "      <td>0</td>\n",
       "      <td>0</td>\n",
       "      <td>0</td>\n",
       "      <td>0</td>\n",
       "      <td>0</td>\n",
       "      <td>0</td>\n",
       "    </tr>\n",
       "    <tr>\n",
       "      <th>6</th>\n",
       "      <td>1</td>\n",
       "      <td>Alaknanda</td>\n",
       "      <td>1.0</td>\n",
       "      <td>3000000</td>\n",
       "      <td>Builder_Floor</td>\n",
       "      <td>1</td>\n",
       "      <td>0</td>\n",
       "      <td>0</td>\n",
       "      <td>0</td>\n",
       "      <td>0</td>\n",
       "      <td>...</td>\n",
       "      <td>0</td>\n",
       "      <td>0</td>\n",
       "      <td>0</td>\n",
       "      <td>0</td>\n",
       "      <td>0</td>\n",
       "      <td>0</td>\n",
       "      <td>0</td>\n",
       "      <td>0</td>\n",
       "      <td>0</td>\n",
       "      <td>0</td>\n",
       "    </tr>\n",
       "    <tr>\n",
       "      <th>7</th>\n",
       "      <td>3</td>\n",
       "      <td>Alaknanda</td>\n",
       "      <td>1.0</td>\n",
       "      <td>19000000</td>\n",
       "      <td>Apartment</td>\n",
       "      <td>1</td>\n",
       "      <td>0</td>\n",
       "      <td>0</td>\n",
       "      <td>0</td>\n",
       "      <td>0</td>\n",
       "      <td>...</td>\n",
       "      <td>0</td>\n",
       "      <td>0</td>\n",
       "      <td>0</td>\n",
       "      <td>0</td>\n",
       "      <td>0</td>\n",
       "      <td>0</td>\n",
       "      <td>0</td>\n",
       "      <td>0</td>\n",
       "      <td>0</td>\n",
       "      <td>0</td>\n",
       "    </tr>\n",
       "    <tr>\n",
       "      <th>8</th>\n",
       "      <td>2</td>\n",
       "      <td>Alaknanda</td>\n",
       "      <td>2.0</td>\n",
       "      <td>15000000</td>\n",
       "      <td>Apartment</td>\n",
       "      <td>1</td>\n",
       "      <td>0</td>\n",
       "      <td>0</td>\n",
       "      <td>0</td>\n",
       "      <td>0</td>\n",
       "      <td>...</td>\n",
       "      <td>0</td>\n",
       "      <td>0</td>\n",
       "      <td>0</td>\n",
       "      <td>0</td>\n",
       "      <td>0</td>\n",
       "      <td>0</td>\n",
       "      <td>0</td>\n",
       "      <td>0</td>\n",
       "      <td>0</td>\n",
       "      <td>0</td>\n",
       "    </tr>\n",
       "    <tr>\n",
       "      <th>9</th>\n",
       "      <td>2</td>\n",
       "      <td>Alaknanda</td>\n",
       "      <td>2.0</td>\n",
       "      <td>17500000</td>\n",
       "      <td>Apartment</td>\n",
       "      <td>1</td>\n",
       "      <td>0</td>\n",
       "      <td>0</td>\n",
       "      <td>0</td>\n",
       "      <td>0</td>\n",
       "      <td>...</td>\n",
       "      <td>0</td>\n",
       "      <td>0</td>\n",
       "      <td>0</td>\n",
       "      <td>0</td>\n",
       "      <td>0</td>\n",
       "      <td>0</td>\n",
       "      <td>0</td>\n",
       "      <td>0</td>\n",
       "      <td>0</td>\n",
       "      <td>0</td>\n",
       "    </tr>\n",
       "  </tbody>\n",
       "</table>\n",
       "<p>10 rows × 68 columns</p>\n",
       "</div>"
      ],
      "text/plain": [
       "   BHK   Locality  Parking     Price           Type  Alaknanda  \\\n",
       "0    3  Alaknanda      1.0  19000000      Apartment          1   \n",
       "1    2  Alaknanda      2.0  15000000      Apartment          1   \n",
       "2    2  Alaknanda      2.0  17500000      Apartment          1   \n",
       "3    2  Alaknanda      2.0  14000000      Apartment          1   \n",
       "4    3  Alaknanda      2.0  15600000      Apartment          1   \n",
       "5    3  Alaknanda      1.0  19000000      Apartment          1   \n",
       "6    1  Alaknanda      1.0   3000000  Builder_Floor          1   \n",
       "7    3  Alaknanda      1.0  19000000      Apartment          1   \n",
       "8    2  Alaknanda      2.0  15000000      Apartment          1   \n",
       "9    2  Alaknanda      2.0  17500000      Apartment          1   \n",
       "\n",
       "   Batla House, Okhla  Budh Vihar  Budh Vihar Phase 1  Chittaranjan Park  ...  \\\n",
       "0                   0           0                   0                  0  ...   \n",
       "1                   0           0                   0                  0  ...   \n",
       "2                   0           0                   0                  0  ...   \n",
       "3                   0           0                   0                  0  ...   \n",
       "4                   0           0                   0                  0  ...   \n",
       "5                   0           0                   0                  0  ...   \n",
       "6                   0           0                   0                  0  ...   \n",
       "7                   0           0                   0                  0  ...   \n",
       "8                   0           0                   0                  0  ...   \n",
       "9                   0           0                   0                  0  ...   \n",
       "\n",
       "   Shivalik, Malviya Nagar  Sukhdev Vihar, Okhla  Sultanpur  \\\n",
       "0                        0                     0          0   \n",
       "1                        0                     0          0   \n",
       "2                        0                     0          0   \n",
       "3                        0                     0          0   \n",
       "4                        0                     0          0   \n",
       "5                        0                     0          0   \n",
       "6                        0                     0          0   \n",
       "7                        0                     0          0   \n",
       "8                        0                     0          0   \n",
       "9                        0                     0          0   \n",
       "\n",
       "   Sultanpur Extension  The Amaryllis, Karol Bagh  \\\n",
       "0                    0                          0   \n",
       "1                    0                          0   \n",
       "2                    0                          0   \n",
       "3                    0                          0   \n",
       "4                    0                          0   \n",
       "5                    0                          0   \n",
       "6                    0                          0   \n",
       "7                    0                          0   \n",
       "8                    0                          0   \n",
       "9                    0                          0   \n",
       "\n",
       "   The Leela Sky Villas, Patel Nagar  Uttam Nagar  Uttam Nagar West  \\\n",
       "0                                  0            0                 0   \n",
       "1                                  0            0                 0   \n",
       "2                                  0            0                 0   \n",
       "3                                  0            0                 0   \n",
       "4                                  0            0                 0   \n",
       "5                                  0            0                 0   \n",
       "6                                  0            0                 0   \n",
       "7                                  0            0                 0   \n",
       "8                                  0            0                 0   \n",
       "9                                  0            0                 0   \n",
       "\n",
       "   Vasant Kunj  Yamuna Vihar, Shahdara  \n",
       "0            0                       0  \n",
       "1            0                       0  \n",
       "2            0                       0  \n",
       "3            0                       0  \n",
       "4            0                       0  \n",
       "5            0                       0  \n",
       "6            0                       0  \n",
       "7            0                       0  \n",
       "8            0                       0  \n",
       "9            0                       0  \n",
       "\n",
       "[10 rows x 68 columns]"
      ]
     },
     "execution_count": 45,
     "metadata": {},
     "output_type": "execute_result"
    }
   ],
   "source": [
    "df9.head(10)"
   ]
  },
  {
   "cell_type": "code",
   "execution_count": 46,
   "id": "1242c58f-1993-4b5c-81db-c70b8d0babdf",
   "metadata": {},
   "outputs": [
    {
     "data": {
      "text/html": [
       "<div>\n",
       "<style scoped>\n",
       "    .dataframe tbody tr th:only-of-type {\n",
       "        vertical-align: middle;\n",
       "    }\n",
       "\n",
       "    .dataframe tbody tr th {\n",
       "        vertical-align: top;\n",
       "    }\n",
       "\n",
       "    .dataframe thead th {\n",
       "        text-align: right;\n",
       "    }\n",
       "</style>\n",
       "<table border=\"1\" class=\"dataframe\">\n",
       "  <thead>\n",
       "    <tr style=\"text-align: right;\">\n",
       "      <th></th>\n",
       "      <th>BHK</th>\n",
       "      <th>Parking</th>\n",
       "      <th>Price</th>\n",
       "      <th>Alaknanda</th>\n",
       "      <th>Batla House, Okhla</th>\n",
       "      <th>Budh Vihar</th>\n",
       "      <th>Budh Vihar Phase 1</th>\n",
       "      <th>Chittaranjan Park</th>\n",
       "      <th>Common Wealth Games Village, Commonwealth Games Village 2010</th>\n",
       "      <th>Commonwealth Games Village 2010</th>\n",
       "      <th>...</th>\n",
       "      <th>Shivalik, Malviya Nagar</th>\n",
       "      <th>Sukhdev Vihar, Okhla</th>\n",
       "      <th>Sultanpur</th>\n",
       "      <th>Sultanpur Extension</th>\n",
       "      <th>The Amaryllis, Karol Bagh</th>\n",
       "      <th>The Leela Sky Villas, Patel Nagar</th>\n",
       "      <th>Uttam Nagar</th>\n",
       "      <th>Uttam Nagar West</th>\n",
       "      <th>Vasant Kunj</th>\n",
       "      <th>Yamuna Vihar, Shahdara</th>\n",
       "    </tr>\n",
       "  </thead>\n",
       "  <tbody>\n",
       "    <tr>\n",
       "      <th>0</th>\n",
       "      <td>3</td>\n",
       "      <td>1.0</td>\n",
       "      <td>19000000</td>\n",
       "      <td>1</td>\n",
       "      <td>0</td>\n",
       "      <td>0</td>\n",
       "      <td>0</td>\n",
       "      <td>0</td>\n",
       "      <td>0</td>\n",
       "      <td>0</td>\n",
       "      <td>...</td>\n",
       "      <td>0</td>\n",
       "      <td>0</td>\n",
       "      <td>0</td>\n",
       "      <td>0</td>\n",
       "      <td>0</td>\n",
       "      <td>0</td>\n",
       "      <td>0</td>\n",
       "      <td>0</td>\n",
       "      <td>0</td>\n",
       "      <td>0</td>\n",
       "    </tr>\n",
       "    <tr>\n",
       "      <th>1</th>\n",
       "      <td>2</td>\n",
       "      <td>2.0</td>\n",
       "      <td>15000000</td>\n",
       "      <td>1</td>\n",
       "      <td>0</td>\n",
       "      <td>0</td>\n",
       "      <td>0</td>\n",
       "      <td>0</td>\n",
       "      <td>0</td>\n",
       "      <td>0</td>\n",
       "      <td>...</td>\n",
       "      <td>0</td>\n",
       "      <td>0</td>\n",
       "      <td>0</td>\n",
       "      <td>0</td>\n",
       "      <td>0</td>\n",
       "      <td>0</td>\n",
       "      <td>0</td>\n",
       "      <td>0</td>\n",
       "      <td>0</td>\n",
       "      <td>0</td>\n",
       "    </tr>\n",
       "    <tr>\n",
       "      <th>2</th>\n",
       "      <td>2</td>\n",
       "      <td>2.0</td>\n",
       "      <td>17500000</td>\n",
       "      <td>1</td>\n",
       "      <td>0</td>\n",
       "      <td>0</td>\n",
       "      <td>0</td>\n",
       "      <td>0</td>\n",
       "      <td>0</td>\n",
       "      <td>0</td>\n",
       "      <td>...</td>\n",
       "      <td>0</td>\n",
       "      <td>0</td>\n",
       "      <td>0</td>\n",
       "      <td>0</td>\n",
       "      <td>0</td>\n",
       "      <td>0</td>\n",
       "      <td>0</td>\n",
       "      <td>0</td>\n",
       "      <td>0</td>\n",
       "      <td>0</td>\n",
       "    </tr>\n",
       "    <tr>\n",
       "      <th>3</th>\n",
       "      <td>2</td>\n",
       "      <td>2.0</td>\n",
       "      <td>14000000</td>\n",
       "      <td>1</td>\n",
       "      <td>0</td>\n",
       "      <td>0</td>\n",
       "      <td>0</td>\n",
       "      <td>0</td>\n",
       "      <td>0</td>\n",
       "      <td>0</td>\n",
       "      <td>...</td>\n",
       "      <td>0</td>\n",
       "      <td>0</td>\n",
       "      <td>0</td>\n",
       "      <td>0</td>\n",
       "      <td>0</td>\n",
       "      <td>0</td>\n",
       "      <td>0</td>\n",
       "      <td>0</td>\n",
       "      <td>0</td>\n",
       "      <td>0</td>\n",
       "    </tr>\n",
       "    <tr>\n",
       "      <th>4</th>\n",
       "      <td>3</td>\n",
       "      <td>2.0</td>\n",
       "      <td>15600000</td>\n",
       "      <td>1</td>\n",
       "      <td>0</td>\n",
       "      <td>0</td>\n",
       "      <td>0</td>\n",
       "      <td>0</td>\n",
       "      <td>0</td>\n",
       "      <td>0</td>\n",
       "      <td>...</td>\n",
       "      <td>0</td>\n",
       "      <td>0</td>\n",
       "      <td>0</td>\n",
       "      <td>0</td>\n",
       "      <td>0</td>\n",
       "      <td>0</td>\n",
       "      <td>0</td>\n",
       "      <td>0</td>\n",
       "      <td>0</td>\n",
       "      <td>0</td>\n",
       "    </tr>\n",
       "    <tr>\n",
       "      <th>5</th>\n",
       "      <td>3</td>\n",
       "      <td>1.0</td>\n",
       "      <td>19000000</td>\n",
       "      <td>1</td>\n",
       "      <td>0</td>\n",
       "      <td>0</td>\n",
       "      <td>0</td>\n",
       "      <td>0</td>\n",
       "      <td>0</td>\n",
       "      <td>0</td>\n",
       "      <td>...</td>\n",
       "      <td>0</td>\n",
       "      <td>0</td>\n",
       "      <td>0</td>\n",
       "      <td>0</td>\n",
       "      <td>0</td>\n",
       "      <td>0</td>\n",
       "      <td>0</td>\n",
       "      <td>0</td>\n",
       "      <td>0</td>\n",
       "      <td>0</td>\n",
       "    </tr>\n",
       "    <tr>\n",
       "      <th>6</th>\n",
       "      <td>1</td>\n",
       "      <td>1.0</td>\n",
       "      <td>3000000</td>\n",
       "      <td>1</td>\n",
       "      <td>0</td>\n",
       "      <td>0</td>\n",
       "      <td>0</td>\n",
       "      <td>0</td>\n",
       "      <td>0</td>\n",
       "      <td>0</td>\n",
       "      <td>...</td>\n",
       "      <td>0</td>\n",
       "      <td>0</td>\n",
       "      <td>0</td>\n",
       "      <td>0</td>\n",
       "      <td>0</td>\n",
       "      <td>0</td>\n",
       "      <td>0</td>\n",
       "      <td>0</td>\n",
       "      <td>0</td>\n",
       "      <td>0</td>\n",
       "    </tr>\n",
       "    <tr>\n",
       "      <th>7</th>\n",
       "      <td>3</td>\n",
       "      <td>1.0</td>\n",
       "      <td>19000000</td>\n",
       "      <td>1</td>\n",
       "      <td>0</td>\n",
       "      <td>0</td>\n",
       "      <td>0</td>\n",
       "      <td>0</td>\n",
       "      <td>0</td>\n",
       "      <td>0</td>\n",
       "      <td>...</td>\n",
       "      <td>0</td>\n",
       "      <td>0</td>\n",
       "      <td>0</td>\n",
       "      <td>0</td>\n",
       "      <td>0</td>\n",
       "      <td>0</td>\n",
       "      <td>0</td>\n",
       "      <td>0</td>\n",
       "      <td>0</td>\n",
       "      <td>0</td>\n",
       "    </tr>\n",
       "    <tr>\n",
       "      <th>8</th>\n",
       "      <td>2</td>\n",
       "      <td>2.0</td>\n",
       "      <td>15000000</td>\n",
       "      <td>1</td>\n",
       "      <td>0</td>\n",
       "      <td>0</td>\n",
       "      <td>0</td>\n",
       "      <td>0</td>\n",
       "      <td>0</td>\n",
       "      <td>0</td>\n",
       "      <td>...</td>\n",
       "      <td>0</td>\n",
       "      <td>0</td>\n",
       "      <td>0</td>\n",
       "      <td>0</td>\n",
       "      <td>0</td>\n",
       "      <td>0</td>\n",
       "      <td>0</td>\n",
       "      <td>0</td>\n",
       "      <td>0</td>\n",
       "      <td>0</td>\n",
       "    </tr>\n",
       "    <tr>\n",
       "      <th>9</th>\n",
       "      <td>2</td>\n",
       "      <td>2.0</td>\n",
       "      <td>17500000</td>\n",
       "      <td>1</td>\n",
       "      <td>0</td>\n",
       "      <td>0</td>\n",
       "      <td>0</td>\n",
       "      <td>0</td>\n",
       "      <td>0</td>\n",
       "      <td>0</td>\n",
       "      <td>...</td>\n",
       "      <td>0</td>\n",
       "      <td>0</td>\n",
       "      <td>0</td>\n",
       "      <td>0</td>\n",
       "      <td>0</td>\n",
       "      <td>0</td>\n",
       "      <td>0</td>\n",
       "      <td>0</td>\n",
       "      <td>0</td>\n",
       "      <td>0</td>\n",
       "    </tr>\n",
       "  </tbody>\n",
       "</table>\n",
       "<p>10 rows × 66 columns</p>\n",
       "</div>"
      ],
      "text/plain": [
       "   BHK  Parking     Price  Alaknanda  Batla House, Okhla  Budh Vihar  \\\n",
       "0    3      1.0  19000000          1                   0           0   \n",
       "1    2      2.0  15000000          1                   0           0   \n",
       "2    2      2.0  17500000          1                   0           0   \n",
       "3    2      2.0  14000000          1                   0           0   \n",
       "4    3      2.0  15600000          1                   0           0   \n",
       "5    3      1.0  19000000          1                   0           0   \n",
       "6    1      1.0   3000000          1                   0           0   \n",
       "7    3      1.0  19000000          1                   0           0   \n",
       "8    2      2.0  15000000          1                   0           0   \n",
       "9    2      2.0  17500000          1                   0           0   \n",
       "\n",
       "   Budh Vihar Phase 1  Chittaranjan Park  \\\n",
       "0                   0                  0   \n",
       "1                   0                  0   \n",
       "2                   0                  0   \n",
       "3                   0                  0   \n",
       "4                   0                  0   \n",
       "5                   0                  0   \n",
       "6                   0                  0   \n",
       "7                   0                  0   \n",
       "8                   0                  0   \n",
       "9                   0                  0   \n",
       "\n",
       "   Common Wealth Games Village, Commonwealth Games Village 2010  \\\n",
       "0                                                  0              \n",
       "1                                                  0              \n",
       "2                                                  0              \n",
       "3                                                  0              \n",
       "4                                                  0              \n",
       "5                                                  0              \n",
       "6                                                  0              \n",
       "7                                                  0              \n",
       "8                                                  0              \n",
       "9                                                  0              \n",
       "\n",
       "   Commonwealth Games Village 2010  ...  Shivalik, Malviya Nagar  \\\n",
       "0                                0  ...                        0   \n",
       "1                                0  ...                        0   \n",
       "2                                0  ...                        0   \n",
       "3                                0  ...                        0   \n",
       "4                                0  ...                        0   \n",
       "5                                0  ...                        0   \n",
       "6                                0  ...                        0   \n",
       "7                                0  ...                        0   \n",
       "8                                0  ...                        0   \n",
       "9                                0  ...                        0   \n",
       "\n",
       "   Sukhdev Vihar, Okhla  Sultanpur  Sultanpur Extension  \\\n",
       "0                     0          0                    0   \n",
       "1                     0          0                    0   \n",
       "2                     0          0                    0   \n",
       "3                     0          0                    0   \n",
       "4                     0          0                    0   \n",
       "5                     0          0                    0   \n",
       "6                     0          0                    0   \n",
       "7                     0          0                    0   \n",
       "8                     0          0                    0   \n",
       "9                     0          0                    0   \n",
       "\n",
       "   The Amaryllis, Karol Bagh  The Leela Sky Villas, Patel Nagar  Uttam Nagar  \\\n",
       "0                          0                                  0            0   \n",
       "1                          0                                  0            0   \n",
       "2                          0                                  0            0   \n",
       "3                          0                                  0            0   \n",
       "4                          0                                  0            0   \n",
       "5                          0                                  0            0   \n",
       "6                          0                                  0            0   \n",
       "7                          0                                  0            0   \n",
       "8                          0                                  0            0   \n",
       "9                          0                                  0            0   \n",
       "\n",
       "   Uttam Nagar West  Vasant Kunj  Yamuna Vihar, Shahdara  \n",
       "0                 0            0                       0  \n",
       "1                 0            0                       0  \n",
       "2                 0            0                       0  \n",
       "3                 0            0                       0  \n",
       "4                 0            0                       0  \n",
       "5                 0            0                       0  \n",
       "6                 0            0                       0  \n",
       "7                 0            0                       0  \n",
       "8                 0            0                       0  \n",
       "9                 0            0                       0  \n",
       "\n",
       "[10 rows x 66 columns]"
      ]
     },
     "execution_count": 46,
     "metadata": {},
     "output_type": "execute_result"
    }
   ],
   "source": [
    "df10 = df9.drop(['Locality','Type'],axis='columns')\n",
    "df10.head(10)"
   ]
  },
  {
   "cell_type": "code",
   "execution_count": 47,
   "id": "e3f399ff-f590-4c84-bee3-a68629e169f7",
   "metadata": {},
   "outputs": [
    {
     "data": {
      "text/plain": [
       "BHK                                    int64\n",
       "Parking                              float64\n",
       "Price                                  int64\n",
       "Alaknanda                              int32\n",
       "Batla House, Okhla                     int32\n",
       "                                      ...   \n",
       "The Leela Sky Villas, Patel Nagar      int32\n",
       "Uttam Nagar                            int32\n",
       "Uttam Nagar West                       int32\n",
       "Vasant Kunj                            int32\n",
       "Yamuna Vihar, Shahdara                 int32\n",
       "Length: 66, dtype: object"
      ]
     },
     "execution_count": 47,
     "metadata": {},
     "output_type": "execute_result"
    }
   ],
   "source": [
    "df10.dtypes"
   ]
  },
  {
   "cell_type": "code",
   "execution_count": 48,
   "id": "47ce807e-7cc6-4e1c-ad90-a356628db5b9",
   "metadata": {},
   "outputs": [],
   "source": [
    "x = df10.drop('Price',axis='columns')\n",
    "y = df10.Price"
   ]
  },
  {
   "cell_type": "code",
   "execution_count": 49,
   "id": "f190a831-5fea-41ba-b078-fabd9ac4742a",
   "metadata": {},
   "outputs": [],
   "source": [
    "from sklearn.model_selection import train_test_split\n",
    "x_train, x_test, y_train, y_test = train_test_split(x,y,test_size=0.2,random_state=20)"
   ]
  },
  {
   "cell_type": "code",
   "execution_count": 50,
   "id": "4a3d840e-0572-400c-9c4c-4c5ba51fa073",
   "metadata": {},
   "outputs": [
    {
     "data": {
      "text/plain": [
       "-2.296163820403014e+22"
      ]
     },
     "execution_count": 50,
     "metadata": {},
     "output_type": "execute_result"
    }
   ],
   "source": [
    "from sklearn.linear_model import LinearRegression\n",
    "lr_clf = LinearRegression()\n",
    "lr_clf.fit(x_train,y_train)\n",
    "lr_clf.score(x_test,y_test)"
   ]
  },
  {
   "cell_type": "code",
   "execution_count": 51,
   "id": "ea221421-5d33-4c39-9810-c2ffaeb06e08",
   "metadata": {},
   "outputs": [
    {
     "data": {
      "text/plain": [
       "array([-7.32336826e+20, -2.82254365e+21, -4.42879951e+21, -6.82892498e+21,\n",
       "        6.77144888e-01])"
      ]
     },
     "execution_count": 51,
     "metadata": {},
     "output_type": "execute_result"
    }
   ],
   "source": [
    "from sklearn.model_selection import ShuffleSplit\n",
    "from sklearn.model_selection import cross_val_score\n",
    "\n",
    "cv = ShuffleSplit(n_splits=5,test_size=0.2,random_state=0)\n",
    "\n",
    "cross_val_score(LinearRegression(),x,y,cv=cv)"
   ]
  },
  {
   "cell_type": "code",
   "execution_count": 52,
   "id": "1aa4ad61-a271-4885-bf30-c10de5d54637",
   "metadata": {},
   "outputs": [
    {
     "data": {
      "text/plain": [
       "BHK                                    int64\n",
       "Parking                              float64\n",
       "Alaknanda                              int32\n",
       "Batla House, Okhla                     int32\n",
       "Budh Vihar                             int32\n",
       "                                      ...   \n",
       "The Leela Sky Villas, Patel Nagar      int32\n",
       "Uttam Nagar                            int32\n",
       "Uttam Nagar West                       int32\n",
       "Vasant Kunj                            int32\n",
       "Yamuna Vihar, Shahdara                 int32\n",
       "Length: 65, dtype: object"
      ]
     },
     "execution_count": 52,
     "metadata": {},
     "output_type": "execute_result"
    }
   ],
   "source": [
    "x.dtypes"
   ]
  },
  {
   "cell_type": "code",
   "execution_count": 65,
   "id": "015e7625-4bc2-4ba4-8746-f788bdaf93f2",
   "metadata": {},
   "outputs": [],
   "source": [
    "def predict_price(Locality,Parking,BHK):    \n",
    "    loc_index = np.where(x.columns==Locality)[0][0]\n",
    "\n",
    "    x_input = np.zeros(len(x.columns))\n",
    "    x_input[0] = BHK\n",
    "    x_input[1] = Parking\n",
    "    if loc_index >= 0:\n",
    "        x_input[loc_index] = 1\n",
    "\n",
    "    return lr_clf.predict([x_input])[0]"
   ]
  },
  {
   "cell_type": "code",
   "execution_count": 66,
   "id": "0b5fac61-c54d-47e7-b379-25e34cd076ef",
   "metadata": {
    "scrolled": true
   },
   "outputs": [
    {
     "name": "stderr",
     "output_type": "stream",
     "text": [
      "C:\\Users\\Pushpa_Rawat\\AppData\\Local\\Programs\\Python\\Python312\\Lib\\site-packages\\sklearn\\base.py:493: UserWarning: X does not have valid feature names, but LinearRegression was fitted with feature names\n",
      "  warnings.warn(\n"
     ]
    },
    {
     "data": {
      "text/plain": [
       "83177.89166680351"
      ]
     },
     "execution_count": 66,
     "metadata": {},
     "output_type": "execute_result"
    }
   ],
   "source": [
    "predict_price('Uttam Nagar',1,2)"
   ]
  },
  {
   "cell_type": "code",
   "execution_count": 67,
   "id": "8246be8a-a400-4be0-b32c-2a9ebd70bb23",
   "metadata": {},
   "outputs": [],
   "source": [
    "import pickle\n",
    "with open('delhi_home_price_prediction_model','wb') as f:\n",
    "    pickle.dump(lr_clf,f)"
   ]
  },
  {
   "cell_type": "code",
   "execution_count": 69,
   "id": "0de74d2f-0bb6-4a92-b3e6-617efec73c5f",
   "metadata": {},
   "outputs": [],
   "source": [
    "import json\n",
    "columns = {\n",
    "    'data_columns' : [col.lower() for col in x.columns]\n",
    "}\n",
    "with open(\"columns.json\",\"w\") as f:\n",
    "    f.write(json.dumps(columns))"
   ]
  },
  {
   "cell_type": "code",
   "execution_count": null,
   "id": "e8cd95ad-4a63-48d0-ab23-03f296db2d6e",
   "metadata": {},
   "outputs": [],
   "source": []
  }
 ],
 "metadata": {
  "kernelspec": {
   "display_name": "Python 3 (ipykernel)",
   "language": "python",
   "name": "python3"
  },
  "language_info": {
   "codemirror_mode": {
    "name": "ipython",
    "version": 3
   },
   "file_extension": ".py",
   "mimetype": "text/x-python",
   "name": "python",
   "nbconvert_exporter": "python",
   "pygments_lexer": "ipython3",
   "version": "3.12.2"
  }
 },
 "nbformat": 4,
 "nbformat_minor": 5
}
